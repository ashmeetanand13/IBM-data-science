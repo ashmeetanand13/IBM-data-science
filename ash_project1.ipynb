{
 "cells": [
  {
   "cell_type": "markdown",
   "id": "bd9fee6d-21e0-42a7-80ee-5631ce336f45",
   "metadata": {},
   "source": [
    "Title of the Notebook "
   ]
  },
  {
   "cell_type": "code",
   "execution_count": 3,
   "id": "62bb1b86-79dc-488d-9e2f-83f9ee723d0b",
   "metadata": {},
   "outputs": [],
   "source": [
    " #Title of the notebook "
   ]
  },
  {
   "cell_type": "code",
   "execution_count": 4,
   "id": "2b7b3e0a-0fda-41b8-8d24-8d1f6d031726",
   "metadata": {},
   "outputs": [],
   "source": [
    "# Introduction"
   ]
  },
  {
   "cell_type": "markdown",
   "id": "d72f8543-e7f5-45e8-8816-4049aafab5ea",
   "metadata": {},
   "source": [
    "Name: Ash \n",
    "Project No. 1"
   ]
  },
  {
   "cell_type": "code",
   "execution_count": 5,
   "id": "96ce58a7-fba3-4035-94e7-cac283a91622",
   "metadata": {},
   "outputs": [],
   "source": [
    " #markdown to list 3 data science language"
   ]
  },
  {
   "cell_type": "markdown",
   "id": "50b19f22-c0b6-4a5c-8265-cf362e069a26",
   "metadata": {},
   "source": [
    "Data Science: \n",
    "\n",
    "Python\n",
    "R \n",
    "spyder"
   ]
  },
  {
   "cell_type": "code",
   "execution_count": 7,
   "id": "bf20621f-573e-42e1-8d3f-2846b05ce380",
   "metadata": {},
   "outputs": [],
   "source": [
    "#data science library "
   ]
  },
  {
   "cell_type": "markdown",
   "id": "466fa774-5211-4dcf-bcd4-2d535db1a884",
   "metadata": {},
   "source": [
    "Data Science library: \n",
    "Sklearn, carrt"
   ]
  },
  {
   "cell_type": "code",
   "execution_count": 8,
   "id": "fff2ab47-51a4-4297-872d-d6c1e43b27e4",
   "metadata": {},
   "outputs": [],
   "source": [
    "# markdown table od data science tools"
   ]
  },
  {
   "cell_type": "markdown",
   "id": "a5a074c5-3727-4957-b777-b754782a4ff4",
   "metadata": {},
   "source": [
    "| Category           | Tools                                                                                                    |\n",
    "|--------------------|----------------------------------------------------------------------------------------------------------|\n",
    "| Programming        | Python, R, Julia                                                                                         |\n",
    "| Data Manipulation  | Pandas, NumPy, dplyr                                                                                     |\n",
    "| Data Visualization | Matplotlib, Seaborn, ggplot2, Plotly                                                                     |\n",
    "| Machine Learning   | Scikit-learn, TensorFlow, PyTorch, Keras                                                                 |\n",
    "| Big Data           | Spark, Hadoop, Kafka                                                                                     |\n",
    "| SQL                | SQLite, PostgreSQL, MySQL, Microsoft SQL Server                                                           |\n",
    "| Cloud Computing    | Google Cloud Platform, Amazon Web Services, Microsoft Azure                                               |\n",
    "| Data Cleaning      | OpenRefine, Trifacta Wrangler                                                                           |\n",
    "| Data Integration   | Apache NiFi, Talend                                                                                      |\n",
    "| Reporting          | Tableau, Power BI, Looker, Google Data Studio                                                            |\n"
   ]
  },
  {
   "cell_type": "code",
   "execution_count": 9,
   "id": "cda0ddd3-b4e8-43d1-82ad-43b8cc25e392",
   "metadata": {},
   "outputs": [],
   "source": [
    "#Markdown cell introducing arithmetic expression examples"
   ]
  },
  {
   "cell_type": "markdown",
   "id": "352bc156-0a56-44bd-b01c-9421b6d1d891",
   "metadata": {},
   "source": [
    "Arithmetic expressions are used in programming to perform mathematical calculations. Examples include:\n",
    "\n",
    "- Addition: `2 + 3 = 5`\n",
    "- Subtraction: `5 - 2 = 3`\n",
    "- Multiplication: `2 * 3 = 6`\n",
    "- Division: `6 / 3 = 2`\n",
    "- Exponentiation: `2 ** 3 = 8` (2 raised to the power of 3)\n",
    "- Modulo: `7 % 3 = 1` (remainder of 7 divided by 3)\n"
   ]
  },
  {
   "cell_type": "code",
   "execution_count": 11,
   "id": "71572edb-6ec9-4219-9f6d-140ff7c9c255",
   "metadata": {},
   "outputs": [],
   "source": [
    "#Code cell to multiply and add numbers"
   ]
  },
  {
   "cell_type": "code",
   "execution_count": 12,
   "id": "993459d3-bbfe-4251-9a1a-ad82bf53bfb4",
   "metadata": {},
   "outputs": [
    {
     "name": "stdout",
     "output_type": "stream",
     "text": [
      "Multiplication result: 6\n",
      "Addition result: 5\n"
     ]
    }
   ],
   "source": [
    "# Multiplication\n",
    "result_multiply = 2 * 3\n",
    "print(\"Multiplication result:\", result_multiply)\n",
    "\n",
    "# Addition\n",
    "result_add = 2 + 3\n",
    "print(\"Addition result:\", result_add)\n"
   ]
  },
  {
   "cell_type": "code",
   "execution_count": 13,
   "id": "9fc004ba-c778-4b42-9fdc-5205f725923f",
   "metadata": {},
   "outputs": [],
   "source": [
    "#Code cell to convert minutes to hours:"
   ]
  },
  {
   "cell_type": "code",
   "execution_count": 14,
   "id": "01dcc13d-4e18-4abf-a4a3-7bc3f6fd69a0",
   "metadata": {},
   "outputs": [
    {
     "name": "stdout",
     "output_type": "stream",
     "text": [
      "150 minutes is equal to 2.5 hours\n"
     ]
    }
   ],
   "source": [
    "# Convert minutes to hours\n",
    "minutes = 150\n",
    "hours = minutes / 60\n",
    "print(\"150 minutes is equal to\", hours, \"hours\")\n"
   ]
  },
  {
   "cell_type": "code",
   "execution_count": 15,
   "id": "565a9573-3902-4dc3-b809-7ece90561816",
   "metadata": {},
   "outputs": [],
   "source": [
    "#Markdown cell listing objectives:"
   ]
  },
  {
   "cell_type": "markdown",
   "id": "351b8a7b-14ab-4f3a-98cd-98809fd438a1",
   "metadata": {},
   "source": [
    "\n",
    "1. Demonstrate understanding of basic arithmetic operations.\n",
    "2. Create a markdown table of Data Science tools.\n",
    "3. Convert minutes to hours using Python.\n",
    "4. Share the notebook through GitHub.\n"
   ]
  },
  {
   "cell_type": "code",
   "execution_count": 17,
   "id": "d062f992-0708-4828-947d-7962db4101b3",
   "metadata": {},
   "outputs": [],
   "source": [
    "#Markdown cell indicating the Author's name:"
   ]
  },
  {
   "cell_type": "markdown",
   "id": "24d4b6ee-9232-42d4-8e13-02dba3ffa8db",
   "metadata": {},
   "source": [
    "**Author:** [Ash]\n"
   ]
  },
  {
   "cell_type": "code",
   "execution_count": null,
   "id": "7f5d22c6-9294-4ee4-8e7b-625a1cf4efd3",
   "metadata": {},
   "outputs": [],
   "source": []
  }
 ],
 "metadata": {
  "kernelspec": {
   "display_name": "Python 3 (ipykernel)",
   "language": "python",
   "name": "python3"
  },
  "language_info": {
   "codemirror_mode": {
    "name": "ipython",
    "version": 3
   },
   "file_extension": ".py",
   "mimetype": "text/x-python",
   "name": "python",
   "nbconvert_exporter": "python",
   "pygments_lexer": "ipython3",
   "version": "3.12.1"
  }
 },
 "nbformat": 4,
 "nbformat_minor": 5
}
